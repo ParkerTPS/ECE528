{
 "cells": [
  {
   "cell_type": "code",
   "execution_count": null,
   "metadata": {},
   "outputs": [],
   "source": [
    "import tensorflow as tf\n",
    "import torch\n",
    "\n",
    "# check if GPU is being used\n",
    "print(\"GPU Status: \", end = '')\n",
    "if len(tf.config.list_physical_devices('GPU')) != 0: print(\"Active\")\n",
    "else: print(\"Inactive\")"
   ]
  },
  {
   "cell_type": "code",
   "execution_count": null,
   "metadata": {},
   "outputs": [],
   "source": [
    "# TensorFlow and tf.keras\n",
    "import numpy as np\n",
    "from tensorflow import keras\n",
    "import autokeras as ak\n",
    "\n",
    "#tf version should be 2.5 or higher\n",
    "tf.__version__"
   ]
  },
  {
   "cell_type": "code",
   "execution_count": null,
   "metadata": {},
   "outputs": [],
   "source": [
    "#get data\n",
    "(train_images, train_labels), (test_images, test_labels) = \\\n",
    "      keras.datasets.fashion_mnist.load_data()"
   ]
  },
  {
   "cell_type": "code",
   "execution_count": null,
   "metadata": {},
   "outputs": [],
   "source": [
    "#scale data\n",
    "train_images = train_images / 255.0\n",
    "test_images = test_images / 255.0"
   ]
  },
  {
   "cell_type": "code",
   "execution_count": null,
   "metadata": {},
   "outputs": [],
   "source": [
    "#reshape inputs for CNN layers\n",
    "train_images = train_images.reshape(train_images.shape[0], 28, 28, 1)\n",
    "test_images = test_images.reshape(test_images.shape[0], 28, 28, 1)"
   ]
  },
  {
   "cell_type": "code",
   "execution_count": null,
   "metadata": {},
   "outputs": [],
   "source": [
    "import os\n",
    "from tensorboard.plugins.hparams import api as hp\n",
    "\n",
    "# set hparams\n",
    "# HP_OPTIMIZER = hp.HParam('optimizer', hp.Discrete(['adam', 'adagrad', 'rmsprop', 'sgd']))\n",
    "HP_CONV_UNITS = hp.HParam('conv_units', hp.Discrete([6, 12, 24]))\n",
    "HP_DENSE_UNITS = hp.HParam('dense_units', hp.Discrete([100, 200, 400]))\n"
   ]
  },
  {
   "cell_type": "code",
   "execution_count": null,
   "metadata": {},
   "outputs": [],
   "source": [
    "def train_model(hparams):\n",
    "\n",
    "  model = keras.Sequential([\n",
    "    keras.layers.Conv2D(kernel_size = 3, filters = hparams[HP_CONV_UNITS] use_bias = False, padding = 'same', input_shape = (28, 28, 1)),\n",
    "    keras.layers.BatchNormalization(center = True, scale = False),\n",
    "    keras.layers.Activation('gelu'),\n",
    "\n",
    "    keras.layers.Conv2D(kernel_size = 6, filters = 24, use_bias = False, padding = 'same', strides = 1),\n",
    "    keras.layers.BatchNormalization(center = True, scale = False),\n",
    "    keras.layers.Activation('relu'),\n",
    "\n",
    "    keras.layers.Conv2D(kernel_size = 6, filters = 32, use_bias = False, padding = 'same', strides = 1),\n",
    "    keras.layers.BatchNormalization(center = True, scale = False),\n",
    "    keras.layers.Activation('relu'),\n",
    "\n",
    "    keras.layers.Conv2D(kernel_size = 6, filters = 32, use_bias = False, padding = 'same', strides = 1),\n",
    "    keras.layers.BatchNormalization(center = True, scale = False),\n",
    "    keras.layers.Activation('relu'),\n",
    "\n",
    "    keras.layers.Flatten(),\n",
    "\n",
    "    keras.layers.Dense(hparams[HP_DENSE_UNITS], use_bias = False),\n",
    "    keras.layers.BatchNormalization(center = True, scale = False),\n",
    "    keras.layers.Activation('relu'),\n",
    "\n",
    "    keras.layers.Dropout(0.2),\n",
    "    keras.layers.Dense(10, activation = 'softmax')\n",
    "  ])\n",
    "\n",
    "  model.compile(\n",
    "    optimizer='adam',\n",
    "    loss='sparse_categorical_crossentropy',\n",
    "    metrics=['accuracy']\n",
    "  )\n",
    "\n",
    "  model.fit(train_images, train_labels, epochs=10, validation_data=(test_images, test_labels))\n",
    "  _, accuracy = model.evaluate(test_images, test_labels)\n",
    "  return accuracy\n"
   ]
  },
  {
   "cell_type": "code",
   "execution_count": null,
   "metadata": {},
   "outputs": [],
   "source": [
    "num_conv_units = []\n",
    "num_dense_units = []\n",
    "units_accuracy = []\n",
    "\n",
    "for conv_units in HP_CONV_UNITS.domain.values:\n",
    "    for dense_units in HP_DENSE_UNITS.domain.values:\n",
    "        hparams = { \n",
    "            HP_CONV_UNITS: conv_units,\n",
    "            HP_DENSE_UNITS: dense_units,\n",
    "        }\n",
    "        accuracy = train_model(hparams)\n",
    "        num_conv_units.append(conv_units)\n",
    "        num_dense_units.append(dense_units)\n",
    "        units_accuracy.append(accuracy)"
   ]
  },
  {
   "cell_type": "code",
   "execution_count": null,
   "metadata": {},
   "outputs": [],
   "source": [
    "for i in range (9):\n",
    "        print(\"---------------------------------------------------------------------------\")\n",
    "        print(\"CONV Layer Filters: \" + str(num_conv_units[i]))\n",
    "        print(\"DENSE Layer Units: \" + str(num_dense_units[i]))\n",
    "        print(\"Accuracy: \" + str(units_accuracy[i]))\n",
    "        print(\"---------------------------------------------------------------------------\")"
   ]
  }
 ],
 "metadata": {
  "kernelspec": {
   "display_name": "Python 3",
   "language": "python",
   "name": "python3"
  },
  "language_info": {
   "codemirror_mode": {
    "name": "ipython",
    "version": 3
   },
   "file_extension": ".py",
   "mimetype": "text/x-python",
   "name": "python",
   "nbconvert_exporter": "python",
   "pygments_lexer": "ipython3",
   "version": "3.9.18"
  },
  "orig_nbformat": 4
 },
 "nbformat": 4,
 "nbformat_minor": 2
}
