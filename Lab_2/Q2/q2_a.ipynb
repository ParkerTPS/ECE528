{
 "cells": [
  {
   "cell_type": "code",
   "execution_count": 11,
   "metadata": {},
   "outputs": [
    {
     "name": "stdout",
     "output_type": "stream",
     "text": [
      "GPU Status: Active\n"
     ]
    }
   ],
   "source": [
    "import tensorflow as tf\n",
    "import torch\n",
    "\n",
    "# check if GPU is being used\n",
    "print(\"GPU Status: \", end = '')\n",
    "if len(tf.config.list_physical_devices('GPU')) != 0: print(\"Active\")\n",
    "else: print(\"Inactive\")"
   ]
  },
  {
   "cell_type": "code",
   "execution_count": 12,
   "metadata": {},
   "outputs": [
    {
     "data": {
      "text/plain": [
       "'2.10.0'"
      ]
     },
     "execution_count": 12,
     "metadata": {},
     "output_type": "execute_result"
    }
   ],
   "source": [
    "# TensorFlow and tf.keras\n",
    "import numpy as np\n",
    "from tensorflow import keras\n",
    "import autokeras as ak\n",
    "\n",
    "#tf version should be 2.5 or higher\n",
    "tf.__version__"
   ]
  },
  {
   "cell_type": "code",
   "execution_count": 13,
   "metadata": {},
   "outputs": [],
   "source": [
    "#get data\n",
    "(train_images, train_labels), (test_images, test_labels) = \\\n",
    "      keras.datasets.fashion_mnist.load_data()"
   ]
  },
  {
   "cell_type": "code",
   "execution_count": 14,
   "metadata": {},
   "outputs": [],
   "source": [
    "#scale data\n",
    "train_images = train_images / 255.0\n",
    "test_images = test_images / 255.0"
   ]
  },
  {
   "cell_type": "code",
   "execution_count": 15,
   "metadata": {},
   "outputs": [],
   "source": [
    "#reshape inputs for CNN layers\n",
    "train_images = train_images.reshape(train_images.shape[0], 28, 28, 1)\n",
    "test_images = test_images.reshape(test_images.shape[0], 28, 28, 1)"
   ]
  },
  {
   "cell_type": "code",
   "execution_count": 16,
   "metadata": {},
   "outputs": [],
   "source": [
    "import os\n",
    "from tensorboard.plugins.hparams import api as hp\n",
    "\n",
    "# set hparams\n",
    "HP_OPTIMIZER = hp.HParam('optimizer', hp.Discrete(['adam', 'adagrad', 'rmsprop', 'sgd']))"
   ]
  },
  {
   "cell_type": "code",
   "execution_count": 17,
   "metadata": {},
   "outputs": [],
   "source": [
    "def train_model(hparams):\n",
    "\n",
    "  model = keras.Sequential([\n",
    "    keras.layers.Conv2D(kernel_size = 3, filters = 12, use_bias = False, padding = 'same', input_shape = (28, 28, 1)),\n",
    "    keras.layers.BatchNormalization(center = True, scale = False),\n",
    "    keras.layers.Activation('relu'),\n",
    "\n",
    "    keras.layers.Conv2D(kernel_size = 6, filters = 24, use_bias = False, padding = 'same', strides = 1),\n",
    "    keras.layers.BatchNormalization(center = True, scale = False),\n",
    "    keras.layers.Activation('relu'),\n",
    "\n",
    "    keras.layers.Conv2D(kernel_size = 6, filters = 32, use_bias = False, padding = 'same', strides = 1),\n",
    "    keras.layers.BatchNormalization(center = True, scale = False),\n",
    "    keras.layers.Activation('relu'),\n",
    "\n",
    "    keras.layers.Conv2D(kernel_size = 6, filters = 32, use_bias = False, padding = 'same', strides = 1),\n",
    "    keras.layers.BatchNormalization(center = True, scale = False),\n",
    "    keras.layers.Activation('relu'),\n",
    "\n",
    "    keras.layers.Flatten(),\n",
    "\n",
    "    keras.layers.Dense(200, use_bias = False),\n",
    "    keras.layers.BatchNormalization(center = True, scale = False),\n",
    "    keras.layers.Activation('relu'),\n",
    "\n",
    "    keras.layers.Dropout(0.2),\n",
    "    keras.layers.Dense(10, activation = 'softmax')\n",
    "  ])\n",
    "\n",
    "  model.compile(\n",
    "    optimizer=hparams[HP_OPTIMIZER],\n",
    "    loss='sparse_categorical_crossentropy',\n",
    "    metrics=['accuracy']\n",
    "  )\n",
    "\n",
    "  model.fit(train_images, train_labels, epochs=10, validation_data=(test_images, test_labels))\n",
    "  _, accuracy = model.evaluate(test_images, test_labels)\n",
    "  return accuracy\n"
   ]
  },
  {
   "cell_type": "code",
   "execution_count": 18,
   "metadata": {},
   "outputs": [
    {
     "name": "stdout",
     "output_type": "stream",
     "text": [
      "Epoch 1/10\n",
      "1875/1875 [==============================] - 24s 13ms/step - loss: 0.4490 - accuracy: 0.8454 - val_loss: 0.3416 - val_accuracy: 0.8771\n",
      "Epoch 2/10\n",
      "1875/1875 [==============================] - 24s 13ms/step - loss: 0.3048 - accuracy: 0.8949 - val_loss: 0.3069 - val_accuracy: 0.8913\n",
      "Epoch 3/10\n",
      "1875/1875 [==============================] - 24s 13ms/step - loss: 0.2534 - accuracy: 0.9119 - val_loss: 0.2858 - val_accuracy: 0.8984\n",
      "Epoch 4/10\n",
      "1875/1875 [==============================] - 25s 13ms/step - loss: 0.2233 - accuracy: 0.9247 - val_loss: 0.2757 - val_accuracy: 0.8987\n",
      "Epoch 5/10\n",
      "1875/1875 [==============================] - 24s 13ms/step - loss: 0.1980 - accuracy: 0.9347 - val_loss: 0.2665 - val_accuracy: 0.9041\n",
      "Epoch 6/10\n",
      "1875/1875 [==============================] - 24s 13ms/step - loss: 0.1789 - accuracy: 0.9417 - val_loss: 0.2614 - val_accuracy: 0.9052\n",
      "Epoch 7/10\n",
      "1875/1875 [==============================] - 25s 13ms/step - loss: 0.1616 - accuracy: 0.9494 - val_loss: 0.2640 - val_accuracy: 0.9083\n",
      "Epoch 8/10\n",
      "1875/1875 [==============================] - 25s 13ms/step - loss: 0.1463 - accuracy: 0.9553 - val_loss: 0.2559 - val_accuracy: 0.9091\n",
      "Epoch 9/10\n",
      "1875/1875 [==============================] - 24s 13ms/step - loss: 0.1336 - accuracy: 0.9606 - val_loss: 0.2536 - val_accuracy: 0.9105\n",
      "Epoch 10/10\n",
      "1875/1875 [==============================] - 24s 13ms/step - loss: 0.1228 - accuracy: 0.9648 - val_loss: 0.2540 - val_accuracy: 0.9109\n",
      "313/313 [==============================] - 2s 5ms/step - loss: 0.2540 - accuracy: 0.9109\n",
      "Epoch 1/10\n",
      "1875/1875 [==============================] - 25s 13ms/step - loss: 0.3555 - accuracy: 0.8717 - val_loss: 0.2543 - val_accuracy: 0.9062\n",
      "Epoch 2/10\n",
      "1875/1875 [==============================] - 25s 13ms/step - loss: 0.2384 - accuracy: 0.9116 - val_loss: 0.2240 - val_accuracy: 0.9190\n",
      "Epoch 3/10\n",
      "1875/1875 [==============================] - 25s 13ms/step - loss: 0.1960 - accuracy: 0.9275 - val_loss: 0.2349 - val_accuracy: 0.9158\n",
      "Epoch 4/10\n",
      "1875/1875 [==============================] - 25s 13ms/step - loss: 0.1588 - accuracy: 0.9415 - val_loss: 0.1953 - val_accuracy: 0.9305\n",
      "Epoch 5/10\n",
      "1875/1875 [==============================] - 25s 13ms/step - loss: 0.1262 - accuracy: 0.9534 - val_loss: 0.2033 - val_accuracy: 0.9288\n",
      "Epoch 6/10\n",
      "1875/1875 [==============================] - 25s 13ms/step - loss: 0.0995 - accuracy: 0.9637 - val_loss: 0.2116 - val_accuracy: 0.9274\n",
      "Epoch 7/10\n",
      "1875/1875 [==============================] - 25s 13ms/step - loss: 0.0732 - accuracy: 0.9740 - val_loss: 0.2293 - val_accuracy: 0.9249\n",
      "Epoch 8/10\n",
      "1875/1875 [==============================] - 25s 13ms/step - loss: 0.0541 - accuracy: 0.9813 - val_loss: 0.2368 - val_accuracy: 0.9272\n",
      "Epoch 9/10\n",
      "1875/1875 [==============================] - 25s 13ms/step - loss: 0.0432 - accuracy: 0.9846 - val_loss: 0.2552 - val_accuracy: 0.9308\n",
      "Epoch 10/10\n",
      "1875/1875 [==============================] - 25s 13ms/step - loss: 0.0364 - accuracy: 0.9870 - val_loss: 0.2716 - val_accuracy: 0.9250\n",
      "313/313 [==============================] - 2s 5ms/step - loss: 0.2716 - accuracy: 0.9250\n",
      "Epoch 1/10\n",
      "1875/1875 [==============================] - 32s 17ms/step - loss: 0.3474 - accuracy: 0.8765 - val_loss: 0.2848 - val_accuracy: 0.9004\n",
      "Epoch 2/10\n",
      "1875/1875 [==============================] - 32s 17ms/step - loss: 0.2416 - accuracy: 0.9140 - val_loss: 0.2743 - val_accuracy: 0.9057\n",
      "Epoch 3/10\n",
      "1875/1875 [==============================] - 32s 17ms/step - loss: 0.2036 - accuracy: 0.9283 - val_loss: 0.2329 - val_accuracy: 0.9257\n",
      "Epoch 4/10\n",
      "1875/1875 [==============================] - 32s 17ms/step - loss: 0.1730 - accuracy: 0.9390 - val_loss: 0.2404 - val_accuracy: 0.9281\n",
      "Epoch 5/10\n",
      "1875/1875 [==============================] - 32s 17ms/step - loss: 0.1541 - accuracy: 0.9462 - val_loss: 0.3224 - val_accuracy: 0.9223\n",
      "Epoch 6/10\n",
      "1875/1875 [==============================] - 31s 17ms/step - loss: 0.1343 - accuracy: 0.9548 - val_loss: 0.2260 - val_accuracy: 0.9310\n",
      "Epoch 7/10\n",
      "1875/1875 [==============================] - 31s 17ms/step - loss: 0.1163 - accuracy: 0.9615 - val_loss: 0.3409 - val_accuracy: 0.9231\n",
      "Epoch 8/10\n",
      "1875/1875 [==============================] - 31s 17ms/step - loss: 0.1001 - accuracy: 0.9664 - val_loss: 0.3688 - val_accuracy: 0.9244\n",
      "Epoch 9/10\n",
      "1875/1875 [==============================] - 31s 17ms/step - loss: 0.0873 - accuracy: 0.9711 - val_loss: 0.2624 - val_accuracy: 0.9206\n",
      "Epoch 10/10\n",
      "1875/1875 [==============================] - 31s 17ms/step - loss: 0.0763 - accuracy: 0.9749 - val_loss: 0.2759 - val_accuracy: 0.9247\n",
      "313/313 [==============================] - 2s 5ms/step - loss: 0.2759 - accuracy: 0.9247\n",
      "Epoch 1/10\n",
      "1875/1875 [==============================] - 24s 13ms/step - loss: 0.3850 - accuracy: 0.8640 - val_loss: 0.3567 - val_accuracy: 0.8702\n",
      "Epoch 2/10\n",
      "1875/1875 [==============================] - 24s 13ms/step - loss: 0.2586 - accuracy: 0.9081 - val_loss: 0.2888 - val_accuracy: 0.8936\n",
      "Epoch 3/10\n",
      "1875/1875 [==============================] - 24s 13ms/step - loss: 0.2131 - accuracy: 0.9247 - val_loss: 0.2457 - val_accuracy: 0.9125\n",
      "Epoch 4/10\n",
      "1875/1875 [==============================] - 24s 13ms/step - loss: 0.1762 - accuracy: 0.9373 - val_loss: 0.2719 - val_accuracy: 0.9005\n",
      "Epoch 5/10\n",
      "1875/1875 [==============================] - 24s 13ms/step - loss: 0.1479 - accuracy: 0.9483 - val_loss: 0.2476 - val_accuracy: 0.9119\n",
      "Epoch 6/10\n",
      "1875/1875 [==============================] - 24s 13ms/step - loss: 0.1244 - accuracy: 0.9581 - val_loss: 0.2562 - val_accuracy: 0.9097\n",
      "Epoch 7/10\n",
      "1875/1875 [==============================] - 24s 13ms/step - loss: 0.1006 - accuracy: 0.9668 - val_loss: 0.2402 - val_accuracy: 0.9170\n",
      "Epoch 8/10\n",
      "1875/1875 [==============================] - 24s 13ms/step - loss: 0.0820 - accuracy: 0.9736 - val_loss: 0.2461 - val_accuracy: 0.9182\n",
      "Epoch 9/10\n",
      "1875/1875 [==============================] - 24s 13ms/step - loss: 0.0648 - accuracy: 0.9803 - val_loss: 0.2616 - val_accuracy: 0.9170\n",
      "Epoch 10/10\n",
      "1875/1875 [==============================] - 24s 13ms/step - loss: 0.0515 - accuracy: 0.9858 - val_loss: 0.2429 - val_accuracy: 0.9208\n",
      "313/313 [==============================] - 2s 6ms/step - loss: 0.2429 - accuracy: 0.9208\n"
     ]
    }
   ],
   "source": [
    "optimizer_name = []\n",
    "optimizer_accuracy = []\n",
    "\n",
    "for optimizer in HP_OPTIMIZER.domain.values:\n",
    "    hparams = { HP_OPTIMIZER: optimizer }\n",
    "    accuracy = train_model(hparams)\n",
    "    optimizer_name.append(optimizer)\n",
    "    optimizer_accuracy.append(accuracy)\n",
    "    \n"
   ]
  },
  {
   "cell_type": "code",
   "execution_count": 19,
   "metadata": {},
   "outputs": [
    {
     "name": "stdout",
     "output_type": "stream",
     "text": [
      "adagrad accuracy: 0.9108999967575073\n",
      "adam accuracy: 0.925000011920929\n",
      "rmsprop accuracy: 0.9247000217437744\n",
      "sgd accuracy: 0.920799970626831\n"
     ]
    }
   ],
   "source": [
    "for i in range (4):\n",
    "    print(str(optimizer_name[i]) + \" accuracy: \" + str(optimizer_accuracy[i]))"
   ]
  },
  {
   "cell_type": "code",
   "execution_count": 26,
   "metadata": {},
   "outputs": [
    {
     "data": {
      "text/plain": [
       "(90.0, 93.0)"
      ]
     },
     "execution_count": 26,
     "metadata": {},
     "output_type": "execute_result"
    },
    {
     "data": {
      "image/png": "[encoded data removed]",
      "text/plain": [
       "<Figure size 640x480 with 1 Axes>"
      ]
     },
     "metadata": {},
     "output_type": "display_data"
    }
   ],
   "source": [
    "import matplotlib.pyplot as plt\n",
    "\n",
    "fig, ax = plt.subplots()\n",
    "\n",
    "ax.bar(optimizer_name, np.multiply(optimizer_accuracy, 100))\n",
    "\n",
    "ax.set_ylabel('Accuracy (%)')\n",
    "ax.set_title('Optimizer Model Accuracies')\n",
    "ax.set_ylim([90, 93])"
   ]
  }
 ],
 "metadata": {
  "kernelspec": {
   "display_name": "Python 3",
   "language": "python",
   "name": "python3"
  },
  "language_info": {
   "codemirror_mode": {
    "name": "ipython",
    "version": 3
   },
   "file_extension": ".py",
   "mimetype": "text/x-python",
   "name": "python",
   "nbconvert_exporter": "python",
   "pygments_lexer": "ipython3",
   "version": "3.9.18"
  },
  "orig_nbformat": 4
 },
 "nbformat": 4,
 "nbformat_minor": 2
}
