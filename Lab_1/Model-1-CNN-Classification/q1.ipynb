{
 "cells": [
  {
   "cell_type": "code",
   "execution_count": 176,
   "metadata": {},
   "outputs": [
    {
     "name": "stdout",
     "output_type": "stream",
     "text": [
      "GPU Status: Active\n"
     ]
    }
   ],
   "source": [
    "import tensorflow as tf\n",
    "import torch\n",
    "\n",
    "# check if GPU is being used\n",
    "print(\"GPU Status: \", end = '')\n",
    "if len(tf.config.list_physical_devices('GPU')) != 0: print(\"Active\")\n",
    "else: print(\"Inactive\")"
   ]
  },
  {
   "cell_type": "code",
   "execution_count": 177,
   "metadata": {
    "colab": {
     "base_uri": "https://localhost:8080/",
     "height": 255
    },
    "colab_type": "code",
    "id": "opdFPDUIUwFr",
    "outputId": "9b51c58d-62c3-46b1-8ca7-d1548d6aac9f"
   },
   "outputs": [
    {
     "data": {
      "text/plain": [
       "'2.10.1'"
      ]
     },
     "execution_count": 177,
     "metadata": {},
     "output_type": "execute_result"
    }
   ],
   "source": [
    "# TensorFlow and tf.keras\n",
    "import tensorflow as tf\n",
    "import numpy as np\n",
    "from tensorflow import keras\n",
    "\n",
    "#tf version should be 2.5 or higher\n",
    "tf.__version__"
   ]
  },
  {
   "cell_type": "code",
   "execution_count": 178,
   "metadata": {},
   "outputs": [],
   "source": [
    "#get data\n",
    "(train_images, train_labels), (test_images, test_labels) = \\\n",
    "      keras.datasets.mnist.load_data()"
   ]
  },
  {
   "cell_type": "code",
   "execution_count": 179,
   "metadata": {},
   "outputs": [],
   "source": [
    "#scale model\n",
    "train_images = train_images / 255.0\n",
    "test_images = test_images / 255.0"
   ]
  },
  {
   "cell_type": "code",
   "execution_count": 180,
   "metadata": {},
   "outputs": [],
   "source": [
    "#reshape inputs for CNN layers\n",
    "train_images = train_images.reshape(train_images.shape[0], 28, 28, 1)\n",
    "test_images = test_images.reshape(test_images.shape[0], 28, 28, 1)"
   ]
  },
  {
   "cell_type": "code",
   "execution_count": 182,
   "metadata": {},
   "outputs": [],
   "source": [
    "# CNN MODEL\n",
    "#  - Notes - \n",
    "# Total Filters (Features) = 108\n",
    "# Increased stride resolution\n",
    "# Added an additional conv2d layer\n",
    "# Regularization Techniques Used:\n",
    "#   1) Batch Normalization (scale = False due to relu)\n",
    "#   2) Dropout (decreased to 20% due to batch normalization)\n",
    "\n",
    "model = keras.Sequential([\n",
    "    keras.layers.Conv2D(kernel_size = 3, filters = 12, use_bias = False, padding = 'same', input_shape = (28, 28, 1)),\n",
    "    keras.layers.BatchNormalization(center = True, scale = False),\n",
    "    keras.layers.Activation('relu'),\n",
    "\n",
    "    keras.layers.Conv2D(kernel_size = 6, filters = 24, use_bias = False, padding = 'same', strides = 1),\n",
    "    keras.layers.BatchNormalization(center = True, scale = False),\n",
    "    keras.layers.Activation('relu'),\n",
    "\n",
    "    keras.layers.Conv2D(kernel_size = 6, filters = 32, use_bias = False, padding = 'same', strides = 1),\n",
    "    keras.layers.BatchNormalization(center = True, scale = False),\n",
    "    keras.layers.Activation('relu'),\n",
    "\n",
    "    keras.layers.Conv2D(kernel_size = 6, filters = 32, use_bias = False, padding = 'same', strides = 1),\n",
    "    keras.layers.BatchNormalization(center = True, scale = False),\n",
    "    keras.layers.Activation('relu'),\n",
    "\n",
    "    keras.layers.Flatten(),\n",
    "\n",
    "    keras.layers.Dense(200, use_bias = False),\n",
    "    keras.layers.BatchNormalization(center = True, scale = False),\n",
    "    keras.layers.Activation('relu'),\n",
    "\n",
    "    keras.layers.Dropout(0.2),\n",
    "    keras.layers.Dense(10, activation = 'softmax')\n",
    "])"
   ]
  },
  {
   "cell_type": "code",
   "execution_count": 184,
   "metadata": {},
   "outputs": [],
   "source": [
    "# NEW MODEL COMPILE\n",
    "#  - Notes - \n",
    "# Changed optimizer to adam to maintain momentum\n",
    "model.compile(optimizer='adam',\n",
    "          loss='sparse_categorical_crossentropy',\n",
    "          metrics=['accuracy'])"
   ]
  },
  {
   "cell_type": "code",
   "execution_count": 186,
   "metadata": {},
   "outputs": [
    {
     "name": "stdout",
     "output_type": "stream",
     "text": [
      "Epoch 1/10\n",
      "1875/1875 [==============================] - 14s 7ms/step - loss: 0.0914 - accuracy: 0.9721 - val_loss: 0.0382 - val_accuracy: 0.9882\n",
      "Epoch 2/10\n",
      "1875/1875 [==============================] - 14s 7ms/step - loss: 0.0438 - accuracy: 0.9865 - val_loss: 0.0285 - val_accuracy: 0.9904\n",
      "Epoch 3/10\n",
      "1875/1875 [==============================] - 14s 7ms/step - loss: 0.0326 - accuracy: 0.9897 - val_loss: 0.0224 - val_accuracy: 0.9920\n",
      "Epoch 4/10\n",
      "1875/1875 [==============================] - 14s 7ms/step - loss: 0.0283 - accuracy: 0.9910 - val_loss: 0.0212 - val_accuracy: 0.9918\n",
      "Epoch 5/10\n",
      "1875/1875 [==============================] - 14s 7ms/step - loss: 0.0231 - accuracy: 0.9927 - val_loss: 0.0214 - val_accuracy: 0.9925\n",
      "Epoch 6/10\n",
      "1875/1875 [==============================] - 14s 7ms/step - loss: 0.0199 - accuracy: 0.9938 - val_loss: 0.0170 - val_accuracy: 0.9938\n",
      "Epoch 7/10\n",
      "1875/1875 [==============================] - 14s 7ms/step - loss: 0.0150 - accuracy: 0.9951 - val_loss: 0.0230 - val_accuracy: 0.9927\n",
      "Epoch 8/10\n",
      "1875/1875 [==============================] - 14s 7ms/step - loss: 0.0142 - accuracy: 0.9952 - val_loss: 0.0160 - val_accuracy: 0.9941\n",
      "Epoch 9/10\n",
      "1875/1875 [==============================] - 14s 7ms/step - loss: 0.0122 - accuracy: 0.9958 - val_loss: 0.0211 - val_accuracy: 0.9932\n",
      "Epoch 10/10\n",
      "1875/1875 [==============================] - 14s 7ms/step - loss: 0.0100 - accuracy: 0.9969 - val_loss: 0.0136 - val_accuracy: 0.9951\n"
     ]
    }
   ],
   "source": [
    "history = model.fit(train_images, train_labels, epochs=10, \n",
    "                    validation_data=(test_images, test_labels))"
   ]
  },
  {
   "cell_type": "code",
   "execution_count": 187,
   "metadata": {},
   "outputs": [
    {
     "name": "stdout",
     "output_type": "stream",
     "text": [
      "313/313 [==============================] - 1s 3ms/step - loss: 0.0136 - accuracy: 0.9951\n",
      "\n",
      "Test accuracy: 0.9951000213623047\n"
     ]
    }
   ],
   "source": [
    "#evaluate\n",
    "test_loss, test_acc = model.evaluate(test_images,  test_labels)\n",
    "print('\\nTest accuracy:', test_acc)"
   ]
  },
  {
   "cell_type": "code",
   "execution_count": 188,
   "metadata": {},
   "outputs": [
    {
     "name": "stdout",
     "output_type": "stream",
     "text": [
      "1/1 [==============================] - 0s 61ms/step\n"
     ]
    }
   ],
   "source": [
    "# Predict on the first 5 test images.\n",
    "predictions = model.predict(test_images[:5])"
   ]
  },
  {
   "cell_type": "code",
   "execution_count": 189,
   "metadata": {},
   "outputs": [
    {
     "data": {
      "text/plain": [
       "array([[5.4162874e-10, 3.4686565e-08, 1.3198250e-07, 7.7624918e-08,\n",
       "        7.9570287e-07, 3.8010310e-08, 2.8723085e-10, 9.9998164e-01,\n",
       "        2.0714543e-08, 1.7256418e-05],\n",
       "       [1.6630614e-10, 1.5130314e-09, 1.0000000e+00, 3.3644698e-11,\n",
       "        5.3398991e-12, 2.2733591e-15, 1.6685277e-08, 1.9896244e-12,\n",
       "        1.3364219e-10, 7.0169731e-11],\n",
       "       [8.6435148e-10, 9.9999988e-01, 7.4699874e-10, 3.3686560e-11,\n",
       "        1.3375426e-08, 7.1527806e-10, 3.2060208e-09, 1.4781483e-07,\n",
       "        4.6895328e-09, 2.9486361e-11],\n",
       "       [9.9999750e-01, 2.1272151e-11, 2.5384769e-10, 1.3045244e-10,\n",
       "        1.2048639e-11, 1.5776448e-09, 1.9559511e-06, 4.8595641e-12,\n",
       "        5.5108302e-07, 4.1150380e-10],\n",
       "       [2.5693778e-08, 1.7703212e-11, 5.9526363e-11, 1.0517499e-10,\n",
       "        9.9991941e-01, 2.2414519e-09, 1.0472784e-09, 2.6176826e-11,\n",
       "        6.2503922e-09, 8.0589416e-05]], dtype=float32)"
      ]
     },
     "execution_count": 189,
     "metadata": {},
     "output_type": "execute_result"
    }
   ],
   "source": [
    "#Raw predictions\n",
    "predictions"
   ]
  },
  {
   "cell_type": "code",
   "execution_count": 190,
   "metadata": {},
   "outputs": [
    {
     "name": "stdout",
     "output_type": "stream",
     "text": [
      "[7 2 1 0 4]\n"
     ]
    }
   ],
   "source": [
    "# Print our model's predictions\n",
    "print(np.argmax(predictions, axis=1))"
   ]
  },
  {
   "cell_type": "code",
   "execution_count": 191,
   "metadata": {},
   "outputs": [
    {
     "name": "stdout",
     "output_type": "stream",
     "text": [
      "[7 2 1 0 4]\n"
     ]
    }
   ],
   "source": [
    "# Check our predictions against the ground truths\n",
    "print(test_labels[:5]) # [7, 2, 1, 0, 4]"
   ]
  },
  {
   "cell_type": "markdown",
   "metadata": {},
   "source": [
    "### (NEW) Evaluate the model"
   ]
  },
  {
   "cell_type": "code",
   "execution_count": 192,
   "metadata": {},
   "outputs": [
    {
     "name": "stdout",
     "output_type": "stream",
     "text": [
      "313/313 - 1s - loss: 0.0136 - accuracy: 0.9951 - 889ms/epoch - 3ms/step\n"
     ]
    },
    {
     "data": {
      "image/png": "[encoded data removed]",
      "text/plain": [
       "<Figure size 640x480 with 1 Axes>"
      ]
     },
     "metadata": {},
     "output_type": "display_data"
    },
    {
     "data": {
      "image/png": "[encoded data removed]",
      "text/plain": [
       "<Figure size 640x480 with 1 Axes>"
      ]
     },
     "metadata": {},
     "output_type": "display_data"
    }
   ],
   "source": [
    "import matplotlib.pyplot as plt\n",
    "\n",
    "plt.figure()\n",
    "plt.plot(history.history['accuracy'], label='accuracy')\n",
    "plt.plot(history.history['val_accuracy'], label = 'val_accuracy')\n",
    "plt.xlabel('Epoch')\n",
    "plt.ylabel('Accuracy')\n",
    "plt.ylim([0.95, 1])\n",
    "plt.legend(loc='lower right')\n",
    "\n",
    "# Included loss to measure overfitting\n",
    "plt.figure()\n",
    "plt.plot(history.history['loss'], label='loss')\n",
    "plt.plot(history.history['val_loss'], label = 'val_loss')\n",
    "plt.xlabel('Epoch')\n",
    "plt.ylabel('Loss')\n",
    "plt.ylim([0, 0.2])\n",
    "plt.legend(loc='upper right')\n",
    "\n",
    "test_loss, test_acc = model.evaluate(test_images,  test_labels, verbose=2)"
   ]
  }
 ],
 "metadata": {
  "colab": {
   "name": "Untitled0.ipynb",
   "provenance": []
  },
  "kernelspec": {
   "display_name": "Python 3",
   "language": "python",
   "name": "python3"
  },
  "language_info": {
   "codemirror_mode": {
    "name": "ipython",
    "version": 3
   },
   "file_extension": ".py",
   "mimetype": "text/x-python",
   "name": "python",
   "nbconvert_exporter": "python",
   "pygments_lexer": "ipython3",
   "version": "3.9.18"
  }
 },
 "nbformat": 4,
 "nbformat_minor": 1
}
